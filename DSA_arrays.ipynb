{
  "nbformat": 4,
  "nbformat_minor": 0,
  "metadata": {
    "colab": {
      "provenance": [],
      "authorship_tag": "ABX9TyO9JnwIbXtlGiLvmQHq01gf",
      "include_colab_link": true
    },
    "kernelspec": {
      "name": "python3",
      "display_name": "Python 3"
    },
    "language_info": {
      "name": "python"
    }
  },
  "cells": [
    {
      "cell_type": "markdown",
      "metadata": {
        "id": "view-in-github",
        "colab_type": "text"
      },
      "source": [
        "<a href=\"https://colab.research.google.com/github/vamsidhar1198/DSA/blob/main/DSA_arrays.ipynb\" target=\"_parent\"><img src=\"https://colab.research.google.com/assets/colab-badge.svg\" alt=\"Open In Colab\"/></a>"
      ]
    },
    {
      "cell_type": "markdown",
      "source": [
        "Arrays are a fundamental data structure in DSA.\n",
        "\n",
        "Arrays are a versatile and essential building block for many DSA concepts. Their simplicity and efficient random access make them a go-to choice for various data storage and manipulation tasks\n"
      ],
      "metadata": {
        "id": "uZJLePsQwxpA"
      }
    },
    {
      "cell_type": "markdown",
      "source": [
        "\n",
        "**What are Arrays?**\n",
        "\n",
        "* Arrays are a fixed-size collection of elements all having the same data type.\n",
        "* They store elements in contiguous memory locations, allowing efficient random access using an index.\n",
        "* Each element in the array has a unique index, starting from 0 (in most programming languages) and going up to the size of the array minus 1.\n",
        "\n"
      ],
      "metadata": {
        "id": "1x5i5O7oxCTH"
      }
    },
    {
      "cell_type": "markdown",
      "source": [
        "**Benefits of Arrays:**\n",
        "\n",
        "* **Efficient Random Access:** You can directly access any element by its index, enabling fast retrieval and modification.\n",
        "* **Simplicity:** Arrays are a basic and intuitive data structure, easy to understand and implement.\n",
        "* **Cache Locality:** Since elements are stored contiguously, they might reside in the same CPU cache block, improving access speed.\n",
        "\n"
      ],
      "metadata": {
        "id": "HgAfdmI2xU2T"
      }
    },
    {
      "cell_type": "markdown",
      "source": [
        "**Drawbacks of Arrays:**\n",
        "\n",
        "* **Fixed Size:** Once an array is declared with a size, you cannot resize it later. This can lead to memory wastage or issues if the data size changes.\n",
        "* **Insertion/Deletion:** Inserting or deleting elements in the middle of an array can be slow as it involves shifting other elements in memory. Appending elements at the end is efficient.\n",
        "\n"
      ],
      "metadata": {
        "id": "_0K5EspwxUxB"
      }
    },
    {
      "cell_type": "markdown",
      "source": [
        "**Common Array Operations:**\n",
        "\n",
        "* **Traversing:** Visiting each element in the array sequentially.\n",
        "* **Searching:** Finding a specific element based on a value or condition.\n",
        "* **Sorting:** Arranging elements in a specific order (ascending/descending).\n",
        "* **Insertion:** Adding a new element at a specific position (can be slow for mid-insertion).\n",
        "* **Deletion:** Removing an element from a specific position (can be slow for mid-deletion).\n",
        "\n"
      ],
      "metadata": {
        "id": "uecHqOHIxUs9"
      }
    },
    {
      "cell_type": "markdown",
      "source": [
        "**Applications of Arrays:**\n",
        "\n",
        "* Storing lists of items (scores, names, etc.)\n",
        "* Implementing matrices and tables\n",
        "* Representing graphs (adjacency lists)\n",
        "* Developing algorithms for searching, sorting, and dynamic programming\n"
      ],
      "metadata": {
        "id": "uB-_qjEUxUnw"
      }
    },
    {
      "cell_type": "markdown",
      "source": [
        "**How elements are been stored in memory**\n",
        "\n",
        "The below image shows how the array is storing the elements in the memory.\n",
        "suppose we have a array of [298,305,320,301,292], so its stored in the memory location with 1st element 208 at 0x00500 address ,so next elemet in the array will be stored in 0x00504 as in python each interger is given 4 bytes (4 * 8 bits) of memory allocation,\n",
        "\n",
        "from 0x00500 to 0x00504 we have 4 bytes = 32 bits\n",
        "\n",
        "=> 208 is stored in 32 bits , converting 208 to binary we get 100101010 which is 9bit value all the remaining bits will have 0's\n",
        "\n",
        "=> 208 = 00000000 00000000 00000001 00101010\n",
        "        \n",
        "   00000000 stored in (0x00500)\n",
        "\n",
        "   00000000 stored in (0x00501)\n",
        "\n",
        "   00000001 stored in (0x00502)\n",
        "\n",
        "   00101010 stored in (0x00503)\n",
        "\n",
        "\n",
        "and the memory locations will be allocated respectively with other elements in the list.\n",
        "\n",
        "![](https://drive.google.com/uc?export=view&id=1JOJbcVREOh-uDdtPIHpa19EaFlqb752l)\n"
      ],
      "metadata": {
        "id": "YbkZF4yE1HfU"
      }
    },
    {
      "cell_type": "markdown",
      "source": [
        "**Accessing the array :**\n",
        "\n",
        "Let's consider the stock price for 5 days and those values are stored in array as follow :    \n",
        "\n",
        "stock_price = [298,305,320,301,292]\n",
        "\n",
        "  **Scenario 1:** if you want to know what is stock price on 3rd day ?\n",
        "\n",
        "      usually in python the array can be accessed by indexing,\n",
        "      for sreaching the price of nth day stock we need to index n-1 as the indexing start from 0 in python.\n",
        "\n",
        "      stock_price[3-1] = stock_price[2]\n",
        "\n",
        "      so if we have 5 elements or n number of elements in an array,\n",
        "      we can access them by indexing so the time complexity will be O(1) always.\n",
        "\n",
        "      time complexity : O(1)\n",
        "\n"
      ],
      "metadata": {
        "id": "_6UQ2SyWRj0D"
      }
    },
    {
      "cell_type": "code",
      "execution_count": null,
      "metadata": {
        "id": "oamayMOKv4mw",
        "colab": {
          "base_uri": "https://localhost:8080/"
        },
        "outputId": "37be1bf6-8603-4e2f-8bb2-192bdbbb6c24"
      },
      "outputs": [
        {
          "output_type": "stream",
          "name": "stdout",
          "text": [
            "stock price on 3 is 320\n"
          ]
        }
      ],
      "source": [
        "stock_price = [298,305,320,301,292]\n",
        "n = 3\n",
        "print(f'stock price on {n} is {stock_price[3-1]}')"
      ]
    },
    {
      "cell_type": "markdown",
      "source": [
        "**Scenario 2:** if you want to know on what day the price is 301 ?\n",
        "\n",
        "    For this case we need to take the price value iterate it through whole array and than get what day it is.\n",
        "    As we are iterating through each and every value in the loop,\n",
        "    we will consider the worst case to tell the time complexity which means assuming the price what we needed will be as the last element in the array.\n",
        "\n",
        "    time complexity : O(n)\n",
        "    \n",
        "\n",
        "  \n",
        "\n"
      ],
      "metadata": {
        "id": "c2dWPsLfTh-B"
      }
    },
    {
      "cell_type": "code",
      "source": [
        "stock_price = [298,305,320,301,292]\n",
        "price = 301\n",
        "for i in range(len(stock_price)):\n",
        "  if stock_price[i] == price:\n",
        "    print(f'stock price {price} is on {i+1} day.')"
      ],
      "metadata": {
        "colab": {
          "base_uri": "https://localhost:8080/"
        },
        "id": "P6b6jrkATeq6",
        "outputId": "e3ab2cf8-a351-4d31-9de6-09156a66e66c"
      },
      "execution_count": null,
      "outputs": [
        {
          "output_type": "stream",
          "name": "stdout",
          "text": [
            "stock price 301 is on 4 day.\n"
          ]
        }
      ]
    },
    {
      "cell_type": "markdown",
      "source": [
        "**Scenario 3:** want to print all stock price values\n",
        "\n",
        "    As you want to print all the always we need to iterate through all the elemnts and print it.\n",
        "\n",
        "    time complexity : O(n)\n"
      ],
      "metadata": {
        "id": "0IWhpwPrVljE"
      }
    },
    {
      "cell_type": "code",
      "source": [
        "stock_price = [298,305,320,301,292]\n",
        "for i in range(len(stock_price)):\n",
        "  print (f'stock price on {i+1} day is {stock_price[i]}')"
      ],
      "metadata": {
        "colab": {
          "base_uri": "https://localhost:8080/"
        },
        "id": "X1yPtDeHVXh5",
        "outputId": "73a707e5-52d7-4ad3-a505-578f3332cf09"
      },
      "execution_count": null,
      "outputs": [
        {
          "output_type": "stream",
          "name": "stdout",
          "text": [
            "stock price on 1 day is 298\n",
            "stock price on 2 day is 305\n",
            "stock price on 3 day is 320\n",
            "stock price on 4 day is 301\n",
            "stock price on 5 day is 292\n"
          ]
        }
      ]
    },
    {
      "cell_type": "markdown",
      "source": [
        "**Scenario 4:** If you want to insert a new value in to an array or delete an existing value from the array\n",
        "\n",
        "    Inserting : if we want to insert the element in 1st index then we need to move existing 1st index element to 2nd\n",
        "                index , 2nd to 3rd and so on .....\n",
        "\n",
        "    time complexity : O(n)\n",
        "\n",
        "    Deleting : if we want to delete the element in 1st index then we need to move existing 2nd index element to 1st\n",
        "                index , 3rd to 2nd and so on .....\n",
        "\n",
        "    time complexity : O(n)"
      ],
      "metadata": {
        "id": "VpLTRLgTWSUh"
      }
    },
    {
      "cell_type": "code",
      "source": [
        "# in python we can use list methods to do insert and delete operations\n",
        "stock_price = [298,305,320,301,292]\n",
        "stock_price.insert(1,200)\n",
        "print(f'stock price array after INSERTING 200 value at 1st index : \\n{stock_price}')\n",
        "stock_price = [298,305,320,301,292]\n",
        "del stock_price[1] # or stock_price.remove(305)\n",
        "print(f'stock price array after DELETING 305 value : \\n{stock_price}')"
      ],
      "metadata": {
        "colab": {
          "base_uri": "https://localhost:8080/"
        },
        "id": "ngRmCF8bWCj3",
        "outputId": "88116fa1-c9cc-4366-f0fa-3a7ab067e9de"
      },
      "execution_count": null,
      "outputs": [
        {
          "output_type": "stream",
          "name": "stdout",
          "text": [
            "stock price array after INSERTING 200 value at 1st index : \n",
            "[298, 200, 305, 320, 301, 292]\n",
            "stock price array after DELETING 305 value : \n",
            "[298, 320, 301, 292]\n"
          ]
        }
      ]
    },
    {
      "cell_type": "markdown",
      "source": [
        "In python , list is implemented as dynamic array\n",
        "\n",
        "In python different data types can be stored in a single array.\n",
        "\n",
        "In java , we have two type of array :    \n",
        "1.static array : array size is fixed while intialzing the array. later we can't insert more elements to that array.\n",
        "\n",
        "2.dynamic array : whereas in dynamic we can add n element once the array is intilazed.\n",
        "\n",
        "when we first intilaze the array it will allocate some memory to it example consider it has allocated to store 10 elements.\n",
        "\n",
        "if you want to store 11th element then it will allocate memory for 10 + 2 * 10 (cuurent capaity ) = 30 some where in the memory.\n",
        "\n",
        "now it will copy all the first 10 elements and paste it in new memory location and 11th element will be inserted in sequential to 10th.\n",
        "\n",
        "all the elements in the perivous memory will be deleted.\n",
        "\n",
        "In java only fixed data type can be stored."
      ],
      "metadata": {
        "id": "qKD_4r6Sh4lA"
      }
    },
    {
      "cell_type": "markdown",
      "source": [
        "                    Python      java          c++\n",
        "\n",
        "    Static array      ❌    native array    native array\n",
        "\n",
        "    Dynaimc array   list     array list      std::vector"
      ],
      "metadata": {
        "id": "GJrFpli9lm3B"
      }
    },
    {
      "cell_type": "markdown",
      "source": [
        "##**Exercise :**"
      ],
      "metadata": {
        "id": "B1-IlY7fpL8F"
      }
    },
    {
      "cell_type": "markdown",
      "source": [
        "###1."
      ],
      "metadata": {
        "id": "9iVlPSHypQJo"
      }
    },
    {
      "cell_type": "markdown",
      "source": [
        "\n",
        "\n",
        "\n",
        "Let's say your expense for every month are listed below\n",
        "\n",
        "january-2200  \n",
        "February-2350  \n",
        "March-2600  \n",
        "April-2130  \n",
        "May-2190\n",
        "\n",
        "Create a list to store these monthly expenses and using that find out,\n",
        "\n",
        "1. In feb, how many dollars you spent compare to january ?\n",
        "2. Find out your total expense in first quarter (first three months) of the year.\n",
        "3. Find out if you spent excatly 2000 dollars in any month\n",
        "4. june month just finished and your expense is 1980 dollar. add this item to our monthly expense list\n",
        "5. You returned an item in a month of april and got a refund of 200. Make a correction to your monthly expense list based on this\n",
        "\n"
      ],
      "metadata": {
        "id": "LvmpMpq4mWKX"
      }
    },
    {
      "cell_type": "code",
      "source": [
        "expenses = [2200,2350,2600,2130,2190]\n",
        "\n",
        "#1\n",
        "print(f'Money spent on feb comapred to jan is {expenses[1]-expenses[0]}.')\n",
        "\n",
        "#2\n",
        "total = 0\n",
        "for i in range(3):\n",
        "  total += expenses[i]\n",
        "print(f'Total expense in first quarter is {total}.')\n",
        "\n",
        "#3\n",
        "trigger = 0\n",
        "amount = 2000\n",
        "for i in range(len(expenses)):\n",
        "  if expenses[i] == amount :\n",
        "    trigger = 1\n",
        "    print(f'{amount} is expense of {i+1} month.')\n",
        "    break\n",
        "if trigger == 0 : print(f'{amount} is not expense of any month.')\n",
        "\n",
        "#4\n",
        "month = 6\n",
        "expenses.insert(month-1,1980)\n",
        "print(f'expense list after adding june expense is {expenses}.')\n",
        "\n",
        "#5\n",
        "month = 4\n",
        "expenses[month-1] = expenses[month-1] - 200\n",
        "print(f'After making corrections on expenses the list {expenses}.')\n",
        "\n",
        "\n"
      ],
      "metadata": {
        "colab": {
          "base_uri": "https://localhost:8080/"
        },
        "id": "X0j-DvmTmaPN",
        "outputId": "108b1c39-cf36-478b-f1bd-81ce6d26e939"
      },
      "execution_count": null,
      "outputs": [
        {
          "output_type": "stream",
          "name": "stdout",
          "text": [
            "Money spent on feb comapred to jan is 150.\n",
            "Total expense in first quarter is 7150.\n",
            "2000 is not expense of any month.\n",
            "expense list after adding june expense is [2200, 2350, 2600, 2130, 2190, 1980].\n",
            "After making corrections on expenses the list [2200, 2350, 2600, 1930, 2190, 1980].\n"
          ]
        }
      ]
    },
    {
      "cell_type": "markdown",
      "source": [
        "###2."
      ],
      "metadata": {
        "id": "TCOfIXqNpTXq"
      }
    },
    {
      "cell_type": "markdown",
      "source": [
        "You have a list of your favourite marvel super heros.\n",
        "\n",
        "heros=['spider man','thor','hulk','iron man','captain america']\n",
        "\n",
        "Using this find out,\n",
        "\n",
        "1. Length of the list\n",
        "2. Add 'black panther' at the end of this list\n",
        "3. You realize that you need to add 'black panther' after 'hulk',\n",
        "   so remove it from the list first and then add it after 'hulk'\n",
        "4. Now you don't like thor and hulk because they get angry easily :)\n",
        "   So you want to remove thor and hulk from list and replace them with doctor strange (because he is cool).\n",
        "   Do that with one line of code.\n",
        "5. Sort the heros list in alphabetical order (Hint. Use dir() functions to list down all functions available in list)\n"
      ],
      "metadata": {
        "id": "PBRWzpIimnCJ"
      }
    },
    {
      "cell_type": "code",
      "source": [
        "heros=['spider man','thor','hulk','iron man','captain america']\n",
        "\n",
        "#1\n",
        "print(f'length of the list heros is {len(heros)}.')\n",
        "\n",
        "#2\n",
        "heros.append('black panther')\n",
        "print('list after adding black panter at last {heros}.')\n",
        "\n",
        "#3\n",
        "heros.pop() # or heros.remove('black panther')  or del heros[-1]\n",
        "#there are multiple ways to remove last element from the list\n",
        "heros.insert(heros.index('hulk')+1,'black panther')\n",
        "print(heros)\n",
        "\n",
        "#4\n",
        "heros[1:3] = ['doctor strange']\n",
        "print(heros)\n",
        "\n",
        "#5\n",
        "heros.sort()\n",
        "print(f'Aftersorting names in alphabetical order {heros}.')"
      ],
      "metadata": {
        "colab": {
          "base_uri": "https://localhost:8080/"
        },
        "id": "83lhntOAmVkw",
        "outputId": "c7b56504-9f74-49a4-bb1a-1ac3e8ce40b8"
      },
      "execution_count": null,
      "outputs": [
        {
          "output_type": "stream",
          "name": "stdout",
          "text": [
            "length of the list heros is 5.\n",
            "list after adding black panter at last {heros}.\n",
            "['spider man', 'thor', 'hulk', 'black panther', 'iron man', 'captain america']\n",
            "['spider man', 'doctor strange', 'black panther', 'iron man', 'captain america']\n",
            "Aftersorting names in alphabetical order ['black panther', 'captain america', 'doctor strange', 'iron man', 'spider man'].\n"
          ]
        }
      ]
    },
    {
      "cell_type": "markdown",
      "source": [
        "###3."
      ],
      "metadata": {
        "id": "JMotKxtRpW45"
      }
    },
    {
      "cell_type": "markdown",
      "source": [
        "Create a list of all odd numbers between 1 and a max number. Max number is something you need to take from a user using input() function"
      ],
      "metadata": {
        "id": "qOCC74qXo_3o"
      }
    },
    {
      "cell_type": "code",
      "source": [
        "def max_odd(number):\n",
        "  odd_numbers = list()\n",
        "  for i in range(1,number):\n",
        "    if i%2 !=0 : odd_numbers.append(i)\n",
        "  return odd_numbers\n",
        "\n",
        "number = int(input('Enter the Max number you want : '))\n",
        "print(f'List of odd numbers from 1 to {number} is {max_odd(number)}')"
      ],
      "metadata": {
        "colab": {
          "base_uri": "https://localhost:8080/"
        },
        "id": "WF8THQ4FYaQj",
        "outputId": "40abd908-2af0-4603-80c6-93b08aa9f596"
      },
      "execution_count": null,
      "outputs": [
        {
          "output_type": "stream",
          "name": "stdout",
          "text": [
            "Enter the Max number you want : 11\n",
            "List of odd numbers from 1 to 11 is [1, 3, 5, 7, 9]\n"
          ]
        }
      ]
    },
    {
      "cell_type": "markdown",
      "source": [
        "colab link : https://colab.research.google.com/drive/1maebUMFbFbXpSFfdoYzemQn7QgutHZ6q?usp=sharing"
      ],
      "metadata": {
        "id": "unyFH81lyuJ2"
      }
    },
    {
      "cell_type": "code",
      "source": [],
      "metadata": {
        "id": "AiaXbUS3wOFo"
      },
      "execution_count": null,
      "outputs": []
    }
  ]
}