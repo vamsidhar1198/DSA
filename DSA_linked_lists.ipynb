{
  "nbformat": 4,
  "nbformat_minor": 0,
  "metadata": {
    "colab": {
      "provenance": [],
      "authorship_tag": "ABX9TyM4marHuux/FTQUeqMFF4nB",
      "include_colab_link": true
    },
    "kernelspec": {
      "name": "python3",
      "display_name": "Python 3"
    },
    "language_info": {
      "name": "python"
    }
  },
  "cells": [
    {
      "cell_type": "markdown",
      "metadata": {
        "id": "view-in-github",
        "colab_type": "text"
      },
      "source": [
        "<a href=\"https://colab.research.google.com/github/vamsidhar1198/DSA/blob/main/DSA_linked_lists.ipynb\" target=\"_parent\"><img src=\"https://colab.research.google.com/assets/colab-badge.svg\" alt=\"Open In Colab\"/></a>"
      ]
    },
    {
      "cell_type": "markdown",
      "source": [
        "#**Linked Lists**"
      ],
      "metadata": {
        "id": "jErOTj847IUj"
      }
    },
    {
      "cell_type": "markdown",
      "source": [
        "\n",
        "\n",
        "\n",
        "A linked list is a linear data structure where elements, called nodes, are not stored in contiguous memory locations. Instead, each node contains data and a reference (or pointer) to the next node in the sequence. This allows for dynamic resizing of the list as nodes can be inserted or removed without affecting the overall memory allocation.\n",
        "\n"
      ],
      "metadata": {
        "id": "7FL8K1_I7CPy"
      }
    },
    {
      "cell_type": "markdown",
      "source": [
        "##**Types of Linked Lists:**"
      ],
      "metadata": {
        "id": "ajIi_mSd7S-w"
      }
    },
    {
      "cell_type": "markdown",
      "source": [
        "\n",
        "\n",
        "1. **Singly Linked List:**\n",
        "   - The most basic type of linked list.\n",
        "   - Each node has one pointer that points to the next node in the sequence.\n",
        "   - **Advantages:**\n",
        "     - Simpler to implement compared to doubly linked lists.\n",
        "     - Less memory overhead per node (one pointer instead of two).\n",
        "   - **Disadvantages:**\n",
        "     - Cannot traverse the list backward efficiently (requires iterating from the beginning).\n",
        "     - Insertion or deletion at the middle requires navigating to the node before the target node.\n",
        "\n",
        "2. **Doubly Linked List:**\n",
        "   - Each node has two pointers: one pointing to the next node and another pointing to the previous node.\n",
        "   - **Advantages:**\n",
        "     - Enables efficient traversal in both forward and backward directions.\n",
        "     - Insertion or deletion at any position is simpler as the node's predecessor and successor can be directly accessed.\n",
        "   - **Disadvantages:**\n",
        "     - More complex implementation due to two pointers per node.\n",
        "     - Higher memory overhead per node.\n",
        "\n",
        "3. **Circular Linked List:**\n",
        "   - A variation of either singly or doubly linked lists where the last node's pointer points back to the first node, creating a circular structure.\n",
        "   - **Advantages:**\n",
        "     - Useful for representing cyclic or continuous data structures.\n",
        "     - Can be used to implement efficient queues or stacks (depending on the chosen operations).\n",
        "   - **Disadvantages:**\n",
        "     - May require special handling during traversal or modifications to avoid infinite loops.\n",
        "\n",
        "4. **Circular Doubly Linked List:**\n",
        "   - Combines the features of a circular linked list and a doubly linked list.\n",
        "   - Each node has two pointers, one pointing to the next node and another pointing to the previous node, in a circular fashion.\n",
        "   - **Advantages:**\n",
        "     - Offers efficient traversal in both directions within the circular structure.\n",
        "     - Allows for insertion or deletion at any position.\n",
        "   - **Disadvantages:**\n",
        "     - Most complex type of linked list to implement.\n",
        "     - Highest memory overhead per node (two pointers).\n",
        "\n"
      ],
      "metadata": {
        "id": "xBFYyqyf7RlQ"
      }
    },
    {
      "cell_type": "markdown",
      "source": [
        "##**Choosing the Right Linked List Type:**\n",
        "\n"
      ],
      "metadata": {
        "id": "rbL2-4Xp7RhN"
      }
    },
    {
      "cell_type": "markdown",
      "source": [
        "The selection of a linked list type depends on the specific requirements of your application:\n",
        "\n",
        "- If you need basic linear data storage with occasional insertions/deletions, a singly linked list might suffice.\n",
        "- If bidirectional traversal or frequent modifications at any position are crucial, a doubly linked list is preferred.\n",
        "- For cyclic data or efficient queue/stack implementations, consider circular linked lists.\n",
        "- If both circular structure and bidirectional traversal are necessary, a circular doubly linked list can be used.\n",
        "\n",
        "- Linked lists are generally less cache-friendly than arrays due to non-contiguous memory allocation.\n",
        "- Operations like random access (retrieving a specific element by index) can be slower in linked lists compared to arrays as they require iterating through the list.\n",
        "\n"
      ],
      "metadata": {
        "id": "02Va70IV7Rca"
      }
    },
    {
      "cell_type": "markdown",
      "source": [
        "## Arrays vs Linked Lists"
      ],
      "metadata": {
        "id": "9T4Pi-q6evEh"
      }
    },
    {
      "cell_type": "markdown",
      "source": [
        "\n",
        "\n",
        "| Feature             | Array                                 | Linked List                                 |\n",
        "|--------------------|---------------------------------------|----------------------------------------------|\n",
        "| Structure           | Elements stored in contiguous memory locations. | Elements (nodes) are not stored contiguously, each node contains data and a pointer to the next node. |\n",
        "| Size                | Fixed size (determined at declaration).   | Dynamic size (can grow or shrink at runtime). |\n",
        "| Accessing Elements  | Fast (direct access using index).        | Slower (requires traversing from the beginning). |\n",
        "| Insertion/Deletion  | Slower (requires shifting elements).       | Faster (only need to modify pointers).        |\n",
        "| Memory Usage        | Less overhead (no pointers per element). | More overhead (each node has a pointer).     |\n",
        "| Cache Friendliness   | More cache-friendly (contiguous elements). | Less cache-friendly (scattered elements).     |\n",
        "| Traversal           | Efficient for forward traversal.        | Efficient for forward and backward traversal (if doubly linked). |\n",
        "| Use Cases           | - Fixed-size data sets.                  | - Dynamic data sets.                         |\n",
        "|                     | - Random access needed frequently.      | - Frequent insertions/deletions.               |\n",
        "|                     | - Cache performance critical.           | - Bidirectional traversal required.           |\n",
        "\n",
        "\n"
      ],
      "metadata": {
        "id": "vfbeZStleqnT"
      }
    },
    {
      "cell_type": "markdown",
      "source": [
        "**Benifits over an array**\n",
        "\n",
        "- you sont need to pre allocate space\n",
        "\n",
        "- insertion is easier\n",
        "\n"
      ],
      "metadata": {
        "id": "OLDqeNJqgDkV"
      }
    },
    {
      "cell_type": "markdown",
      "source": [
        "##How linked list works"
      ],
      "metadata": {
        "id": "7noVmfE6Os0i"
      }
    },
    {
      "cell_type": "markdown",
      "source": [
        "we have some issues with arrays that linked list trys to solve.\n",
        "\n",
        "As we know when we do any opertions on array like inserting, deleting it will take O(n) time complexity where we can comeover tis issue in linked list\n",
        "\n",
        "\n",
        "**Example:**\n",
        "\n",
        "Imagine a linked list with three nodes:\n",
        "\n",
        "- Node 1: Value = 10, Address = 0x1234\n",
        "- Node 2: Value = 20, Address = 0x5678\n",
        "- Node 3: Value = 30, Address = NULL\n",
        "\n",
        "Here's how it would look in the boxes format:\n",
        "\n",
        "```\n",
        "+-----------------+     +-----------------+     +-----------------+\n",
        "| Value: 10       |     | Value: 20       |     | Value: 30       |\n",
        "| Address: 0x1234 | --> | Address: 0x5678 | --> | Address: NULL   |\n",
        "+-----------------+     +-----------------+     +-----------------+\n",
        "```\n",
        "\n",
        "**Explanation:**\n",
        "\n",
        "- Each box represents a single node in the linked list.\n",
        "- \"Value\" displays the data stored in the node.\n",
        "- \"Address\" shows the memory location of the node.\n",
        "- The arrow (`-->`) indicates the pointer from the current node (box) to the next node in the sequence.\n",
        "\n",
        "**Note:**\n",
        "\n",
        "This is a visual representation, and the actual memory addresses would vary depending on your system. However, it effectively conveys the structure of a singly linked list with values and addresses."
      ],
      "metadata": {
        "id": "UrZDTI0A7zXg"
      }
    },
    {
      "cell_type": "markdown",
      "source": [
        "###INSERTION"
      ],
      "metadata": {
        "id": "V9dUAwnDOjCQ"
      }
    },
    {
      "cell_type": "markdown",
      "source": [
        "This is the linked list before adding any value into it.\n",
        "\n",
        "```\n",
        "+-----------------+     +-----------------+     +-----------------+\n",
        "| Value: 10       |     | Value: 20       |     | Value: 30       |\n",
        "| Address: 0x1234 | --> | Address: 0x5678 | --> | Address: NULL   |\n",
        "+-----------------+     +-----------------+     +-----------------+\n",
        "```\n",
        "\n",
        "Lets consider a value 15 needs to be added to the linked list in between 10 and 20.\n",
        "\n",
        "```\n",
        "+-----------------+\n",
        "| value: 15       |\n",
        "| Address: 0x1156 |\n",
        "+-----------------+   \n",
        "```\n",
        "\n",
        "Now we need to modify address for value 10 means replacing address of 15 with 20, then we need to add the adress of 20 in 15 so that link will be created between them.\n",
        "\n",
        "```\n",
        "+-----------------+                        +-----------------+     +-----------------+\n",
        "| Value: 10       |                        | Value: 20       |     | Value: 30       |                                 \n",
        "| Address: 0x1156 |  ⮕                  ⮕ | Address: 0x5678 | --> | Address: 0x9ABC |\n",
        "+-----------------+   ⬇︎                ⬆︎  +-----------------+     +-----------------+      \n",
        "                      +-----------------+   \n",
        "                      | value: 15       |\n",
        "                      | Address: 0x1234 |   \n",
        "                      +-----------------+               \n",
        "\n",
        "\n",
        "\n",
        "\n",
        "\n",
        "```"
      ],
      "metadata": {
        "id": "EZba9BJ0O0Rc"
      }
    },
    {
      "cell_type": "markdown",
      "source": [
        "##Time complexity"
      ],
      "metadata": {
        "id": "MR07hgOXfboe"
      }
    },
    {
      "cell_type": "markdown",
      "source": [
        "- Insert element at beginning : O(1)\n",
        "\n",
        "- Delete element at beginning : O(1)\n",
        "\n",
        "- Insert/Delete element at end : O(n)\n",
        "\n",
        "    (As we need to traversa thorugh the list )\n",
        "\n",
        "- traversal of a linked list : O(n)\n",
        "\n",
        "- Accessing elemet by value : O(n)\n",
        "\n",
        "|             | Array                                 | Linked List                                 |\n",
        "|--------------------|---------------------------------------|----------------------------------------------|\n",
        "| indexing           | O(1) | O(n) |\n",
        "| Insert/Delete element at start                | O(n)   | O(1) |\n",
        "| Insert/Delete element at end                | O(1) - amortized   | O(n) |\n",
        "| Insert/Delete element middle                | O(n)   | O(n) |"
      ],
      "metadata": {
        "id": "L1Axc9HPfe2R"
      }
    },
    {
      "cell_type": "markdown",
      "source": [
        "##**Double Linked List**"
      ],
      "metadata": {
        "id": "vHff0HXMgxJx"
      }
    },
    {
      "cell_type": "markdown",
      "source": [
        "This is how a double linked list looks like :\n",
        "```\n",
        "+-----------------+      +-----------------+      +-----------------+\n",
        "| Title: Bohemian  | --> | Title: Imagine   | --> | Title: Hotel     |\n",
        "| Prev: NULL       |     | Prev: 0x1234     |     | Prev: 0x5678     |\n",
        "| Next: 0x5678     |     | Next: 0x9ABC     |     | Next: NULL       |\n",
        "+-----------------+      +-----------------+       +-----------------+\n",
        "```\n",
        "\n",
        "Here we can traverse forward as well as backward in the list, in the node we will be having 3 things 1 is the value of the node and 2 are addresses of pervious and next nodes.\n",
        "\n",
        "In the above example we can see 1st node has title as value , perv address is NULL as its first node and next is next node address which is linking to second node.\n",
        "\n"
      ],
      "metadata": {
        "id": "echpbTRXhFX0"
      }
    },
    {
      "cell_type": "markdown",
      "source": [
        "#**Linked list in Python**"
      ],
      "metadata": {
        "id": "F1bnEv5lipJC"
      }
    },
    {
      "cell_type": "code",
      "source": [
        "class Node:\n",
        "    def __init__(self, data=None, next=None):\n",
        "        self.data = data\n",
        "        self.next = next #pointer to next node"
      ],
      "metadata": {
        "id": "V7tybagAfwrp"
      },
      "execution_count": 1,
      "outputs": []
    },
    {
      "cell_type": "markdown",
      "source": [
        "###**Inserting value at the beginning**"
      ],
      "metadata": {
        "id": "JlWdLmOinKIY"
      }
    },
    {
      "cell_type": "code",
      "execution_count": 2,
      "metadata": {
        "id": "zQPr2IZh5Hnu"
      },
      "outputs": [],
      "source": [
        "class LinkedList:\n",
        "    def __init__(self):\n",
        "        self.head = None\n",
        "\n",
        "    def insert_at_beginning(self, data):\n",
        "        node = Node(data, self.head) # creating a node with a data\n",
        "        self.head = node\n",
        "\n",
        "    def print(self):\n",
        "      if self.head is None:\n",
        "        print('Linked list is empty.')\n",
        "        return\n",
        "      #if its not blank/ empty then\n",
        "\n",
        "      itr = self.head\n",
        "      llstr = str()\n",
        "      while itr:\n",
        "        llstr += str(itr.data) + '-->'\n",
        "        itr = itr.next\n",
        "      print(llstr)\n",
        "      #iterating through each node\n",
        "\n",
        ""
      ]
    },
    {
      "cell_type": "code",
      "source": [
        "ll = LinkedList() #creating the class object\n",
        "ll.print() # I didn't insert any value in to the list"
      ],
      "metadata": {
        "colab": {
          "base_uri": "https://localhost:8080/"
        },
        "id": "EOaiTs2-mB1a",
        "outputId": "800878cd-401a-4a48-b7ce-1d67e31963fa"
      },
      "execution_count": 4,
      "outputs": [
        {
          "output_type": "stream",
          "name": "stdout",
          "text": [
            "Linked list is empty.\n"
          ]
        }
      ]
    },
    {
      "cell_type": "code",
      "source": [
        "ll = LinkedList()\n",
        "ll.insert_at_beginning(5)\n",
        "ll.insert_at_beginning(6)\n",
        "ll.print()"
      ],
      "metadata": {
        "colab": {
          "base_uri": "https://localhost:8080/"
        },
        "id": "P0D0vVQwlq0n",
        "outputId": "d1cb8a26-57d1-440b-8edd-1123cdc0067f"
      },
      "execution_count": 5,
      "outputs": [
        {
          "output_type": "stream",
          "name": "stdout",
          "text": [
            "6-->5-->\n"
          ]
        }
      ]
    },
    {
      "cell_type": "markdown",
      "source": [
        "###**Inserting value at the end**"
      ],
      "metadata": {
        "id": "i_0Ld9nEncIY"
      }
    },
    {
      "cell_type": "code",
      "source": [
        "class LinkedList:\n",
        "    def __init__(self):\n",
        "        self.head = None\n",
        "\n",
        "    def insert_at_beginning(self, data):\n",
        "        node = Node(data, self.head)\n",
        "        self.head = node\n",
        "\n",
        "    def insert_at_end(self, data):\n",
        "        if self.head is None:\n",
        "            self.head = Node(data, None)\n",
        "            return\n",
        "\n",
        "        itr = self.head\n",
        "\n",
        "        while itr.next:\n",
        "            itr = itr.next\n",
        "\n",
        "        itr.next = Node(data, None)\n",
        "\n",
        "    def print(self):\n",
        "      if self.head is None:\n",
        "        print('Linked list is empty.')\n",
        "        return\n",
        "      itr = self.head\n",
        "      llstr = str()\n",
        "      while itr:\n",
        "        llstr += str(itr.data) + '-->'\n",
        "        itr = itr.next\n",
        "      print(llstr)\n",
        ""
      ],
      "metadata": {
        "id": "a66_1RPKl8fm"
      },
      "execution_count": 6,
      "outputs": []
    },
    {
      "cell_type": "code",
      "source": [
        "ll = LinkedList()\n",
        "ll.insert_at_beginning(5)\n",
        "ll.insert_at_beginning(6)\n",
        "ll.insert_at_end(7)\n",
        "ll.print()"
      ],
      "metadata": {
        "colab": {
          "base_uri": "https://localhost:8080/"
        },
        "id": "3fMkjdfLm6sB",
        "outputId": "e91a110e-7b53-4bc3-c547-d0d949206f14"
      },
      "execution_count": 7,
      "outputs": [
        {
          "output_type": "stream",
          "name": "stdout",
          "text": [
            "6-->5-->7-->\n"
          ]
        }
      ]
    },
    {
      "cell_type": "markdown",
      "source": [
        "###**Inserting the multiple values in the given order**"
      ],
      "metadata": {
        "id": "KEx0pXPznqDi"
      }
    },
    {
      "cell_type": "code",
      "source": [
        "class LinkedList:\n",
        "    def __init__(self):\n",
        "        self.head = None\n",
        "\n",
        "    def insert_at_end(self, data):\n",
        "        if self.head is None:\n",
        "            self.head = Node(data, None)\n",
        "            return\n",
        "\n",
        "        itr = self.head\n",
        "\n",
        "        while itr.next:\n",
        "            itr = itr.next\n",
        "\n",
        "        itr.next = Node(data, None)\n",
        "\n",
        "    def insert_values(self, data_list):\n",
        "        self.head = None\n",
        "        for data in data_list:\n",
        "            self.insert_at_end(data)\n",
        "\n",
        "\n",
        "    def print(self):\n",
        "      if self.head is None:\n",
        "        print('Linked list is empty.')\n",
        "        return\n",
        "      itr = self.head\n",
        "      llstr = str()\n",
        "      while itr:\n",
        "        llstr += str(itr.data) + '-->'\n",
        "        itr = itr.next\n",
        "      print(llstr)\n",
        ""
      ],
      "metadata": {
        "id": "TQUSlhSonBNM"
      },
      "execution_count": 8,
      "outputs": []
    },
    {
      "cell_type": "code",
      "source": [
        "ll = LinkedList()\n",
        "ll.insert_values([1,2,3,4])\n",
        "ll.print()"
      ],
      "metadata": {
        "colab": {
          "base_uri": "https://localhost:8080/"
        },
        "id": "lprNT1h-n0Km",
        "outputId": "14148143-19df-4eef-f02e-572559257554"
      },
      "execution_count": 10,
      "outputs": [
        {
          "output_type": "stream",
          "name": "stdout",
          "text": [
            "1-->2-->3-->4-->\n"
          ]
        }
      ]
    },
    {
      "cell_type": "markdown",
      "source": [
        "###**Getting length of linked list**"
      ],
      "metadata": {
        "id": "OowFWJMvoqgc"
      }
    },
    {
      "cell_type": "code",
      "source": [
        "class LinkedList:\n",
        "    def __init__(self):\n",
        "        self.head = None\n",
        "\n",
        "    def insert_at_end(self, data):\n",
        "        if self.head is None:\n",
        "            self.head = Node(data, None)\n",
        "            return\n",
        "\n",
        "        itr = self.head\n",
        "\n",
        "        while itr.next:\n",
        "            itr = itr.next\n",
        "\n",
        "        itr.next = Node(data, None)\n",
        "\n",
        "    def insert_values(self, data_list):\n",
        "        self.head = None\n",
        "        for data in data_list:\n",
        "            self.insert_at_end(data)\n",
        "\n",
        "    def get_length(self):\n",
        "        count = 0\n",
        "        itr = self.head\n",
        "        while itr:\n",
        "            count+=1\n",
        "            itr = itr.next\n",
        "\n",
        "        return count\n",
        "\n",
        "    def print(self):\n",
        "      if self.head is None:\n",
        "        print('Linked list is empty.')\n",
        "        return\n",
        "      itr = self.head\n",
        "      llstr = str()\n",
        "      while itr:\n",
        "        llstr += str(itr.data) + '-->'\n",
        "        itr = itr.next\n",
        "      print(llstr)\n"
      ],
      "metadata": {
        "id": "abL8aXc8n71c"
      },
      "execution_count": 13,
      "outputs": []
    },
    {
      "cell_type": "code",
      "source": [
        "ll = LinkedList()\n",
        "ll.insert_values([1,2,3,4])\n",
        "ll.print()\n",
        "print('Length of list is :',ll.get_length())"
      ],
      "metadata": {
        "colab": {
          "base_uri": "https://localhost:8080/"
        },
        "id": "9zRuxGTdoyMk",
        "outputId": "ecf5adc0-295c-4b09-c354-3512d2743534"
      },
      "execution_count": 15,
      "outputs": [
        {
          "output_type": "stream",
          "name": "stdout",
          "text": [
            "1-->2-->3-->4-->\n",
            "Length of list is : 4\n"
          ]
        }
      ]
    },
    {
      "cell_type": "markdown",
      "source": [
        "###**Removing element from linked list**"
      ],
      "metadata": {
        "id": "ygIenZGvpR0k"
      }
    },
    {
      "cell_type": "code",
      "source": [
        "class LinkedList:\n",
        "    def __init__(self):\n",
        "        self.head = None\n",
        "\n",
        "    def insert_at_end(self, data):\n",
        "        if self.head is None:\n",
        "            self.head = Node(data, None)\n",
        "            return\n",
        "\n",
        "        itr = self.head\n",
        "\n",
        "        while itr.next:\n",
        "            itr = itr.next\n",
        "\n",
        "        itr.next = Node(data, None)\n",
        "\n",
        "    def insert_values(self, data_list):\n",
        "        self.head = None\n",
        "        for data in data_list:\n",
        "            self.insert_at_end(data)\n",
        "\n",
        "    def remove_at(self, index):\n",
        "        if index<0 or index>=self.get_length():\n",
        "           # if the provided index is greater than / negitive number length of list\n",
        "            raise Exception(\"Invalid Index\")\n",
        "\n",
        "        if index==0:\n",
        "            self.head = self.head.next\n",
        "            # if you want to remove the 1st node we can directly shift the head to the secnod node\n",
        "            return\n",
        "\n",
        "        count = 0\n",
        "        itr = self.head\n",
        "        while itr:\n",
        "            if count == index - 1:\n",
        "                #while traversing if the count match the index before number,\n",
        "                # it will try to replace head of the node with head of next to next node\n",
        "                #so that the next cwill be removed from the link.\n",
        "                itr.next = itr.next.next\n",
        "                break\n",
        "\n",
        "            itr = itr.next\n",
        "            count+=1\n",
        "\n",
        "    def get_length(self):\n",
        "        count = 0\n",
        "        itr = self.head\n",
        "        while itr:\n",
        "            count+=1\n",
        "            itr = itr.next\n",
        "\n",
        "        return count\n",
        "\n",
        "    def print(self):\n",
        "      if self.head is None:\n",
        "        print('Linked list is empty.')\n",
        "        return\n",
        "      itr = self.head\n",
        "      llstr = str()\n",
        "      while itr:\n",
        "        llstr += str(itr.data) + ' --> '\n",
        "        itr = itr.next\n",
        "      print(llstr)\n"
      ],
      "metadata": {
        "id": "1ZvjV8kJpAA-"
      },
      "execution_count": 19,
      "outputs": []
    },
    {
      "cell_type": "code",
      "source": [
        "ll = LinkedList()\n",
        "ll.insert_values([1,2,3,4])\n",
        "ll.print()\n",
        "ll.remove_at(2)\n",
        "ll.print()"
      ],
      "metadata": {
        "colab": {
          "base_uri": "https://localhost:8080/"
        },
        "id": "xCyNCFuWpqY7",
        "outputId": "744527ea-5d1e-447f-eade-dce91e7f61a1"
      },
      "execution_count": 20,
      "outputs": [
        {
          "output_type": "stream",
          "name": "stdout",
          "text": [
            "1 --> 2 --> 3 --> 4 --> \n",
            "1 --> 2 --> 4 --> \n"
          ]
        }
      ]
    },
    {
      "cell_type": "markdown",
      "source": [
        "###**Inserting at given position**"
      ],
      "metadata": {
        "id": "kvDdBduasOs-"
      }
    },
    {
      "cell_type": "code",
      "source": [
        "class LinkedList:\n",
        "    def __init__(self):\n",
        "        self.head = None\n",
        "\n",
        "    def insert_at_beginning(self, data):\n",
        "        node = Node(data, self.head)\n",
        "        self.head = node\n",
        "\n",
        "    def insert_values(self, data_list):\n",
        "        self.head = None\n",
        "        for data in data_list:\n",
        "            self.insert_at_end(data)\n",
        "\n",
        "    def insert_at_end(self, data):\n",
        "        if self.head is None:\n",
        "            self.head = Node(data, None)\n",
        "            return\n",
        "\n",
        "        itr = self.head\n",
        "\n",
        "        while itr.next:\n",
        "            itr = itr.next\n",
        "\n",
        "        itr.next = Node(data, None)\n",
        "\n",
        "    def insert_at(self, index, data):\n",
        "            if index<0 or index>self.get_length():\n",
        "                raise Exception(\"Invalid Index\")\n",
        "\n",
        "            if index==0:\n",
        "                self.insert_at_begining(data)\n",
        "                return\n",
        "\n",
        "            count = 0\n",
        "            itr = self.head\n",
        "            while itr:\n",
        "                if count == index - 1:\n",
        "                    node = Node(data, itr.next)\n",
        "                    itr.next = node\n",
        "                    break\n",
        "\n",
        "                itr = itr.next\n",
        "                count += 1\n",
        "\n",
        "    def get_length(self):\n",
        "        count = 0\n",
        "        itr = self.head\n",
        "        while itr:\n",
        "            count+=1\n",
        "            itr = itr.next\n",
        "\n",
        "        return count\n",
        "\n",
        "    def print(self):\n",
        "        if self.head is None:\n",
        "          print('Linked list is empty.')\n",
        "          return\n",
        "        itr = self.head\n",
        "        llstr = str()\n",
        "        while itr:\n",
        "          llstr += str(itr.data) + ' --> '\n",
        "          itr = itr.next\n",
        "        print(llstr)"
      ],
      "metadata": {
        "id": "TbyDPUu9qu2d"
      },
      "execution_count": 25,
      "outputs": []
    },
    {
      "cell_type": "code",
      "source": [
        "ll = LinkedList()\n",
        "ll.insert_values([1,2,3,4])\n",
        "ll.print()\n",
        "ll.insert_at(3,33)\n",
        "ll.print()"
      ],
      "metadata": {
        "colab": {
          "base_uri": "https://localhost:8080/"
        },
        "id": "8dFVbc59tfk_",
        "outputId": "9bb24605-9e25-4767-a010-531874b28a40"
      },
      "execution_count": 26,
      "outputs": [
        {
          "output_type": "stream",
          "name": "stdout",
          "text": [
            "1 --> 2 --> 3 --> 4 --> \n",
            "1 --> 2 --> 3 --> 33 --> 4 --> \n"
          ]
        }
      ]
    },
    {
      "cell_type": "markdown",
      "source": [
        "### **Adding all functionality given above**\n",
        "**Final code**"
      ],
      "metadata": {
        "id": "JIHVXEpNuSiP"
      }
    },
    {
      "cell_type": "code",
      "source": [
        "class Node:\n",
        "    def __init__(self, data=None, next=None):\n",
        "        self.data = data\n",
        "        self.next = next\n",
        "\n",
        "class LinkedList:\n",
        "    def __init__(self):\n",
        "        self.head = None\n",
        "\n",
        "    def print(self):\n",
        "        if self.head is None:\n",
        "            print(\"Linked list is empty\")\n",
        "            return\n",
        "        itr = self.head\n",
        "        llstr = ''\n",
        "        while itr:\n",
        "            llstr += str(itr.data)+' --> ' if itr.next else str(itr.data)\n",
        "            itr = itr.next\n",
        "        print(llstr)\n",
        "\n",
        "    def get_length(self):\n",
        "        count = 0\n",
        "        itr = self.head\n",
        "        while itr:\n",
        "            count+=1\n",
        "            itr = itr.next\n",
        "\n",
        "        return count\n",
        "\n",
        "    def insert_at_begining(self, data):\n",
        "        node = Node(data, self.head)\n",
        "        self.head = node\n",
        "\n",
        "    def insert_at_end(self, data):\n",
        "        if self.head is None:\n",
        "            self.head = Node(data, None)\n",
        "            return\n",
        "\n",
        "        itr = self.head\n",
        "\n",
        "        while itr.next:\n",
        "            itr = itr.next\n",
        "\n",
        "        itr.next = Node(data, None)\n",
        "\n",
        "    def insert_at(self, index, data):\n",
        "        if index<0 or index>self.get_length():\n",
        "            raise Exception(\"Invalid Index\")\n",
        "\n",
        "        if index==0:\n",
        "            self.insert_at_begining(data)\n",
        "            return\n",
        "\n",
        "        count = 0\n",
        "        itr = self.head\n",
        "        while itr:\n",
        "            if count == index - 1:\n",
        "                node = Node(data, itr.next)\n",
        "                itr.next = node\n",
        "                break\n",
        "\n",
        "            itr = itr.next\n",
        "            count += 1\n",
        "\n",
        "    def remove_at(self, index):\n",
        "        if index<0 or index>=self.get_length():\n",
        "            raise Exception(\"Invalid Index\")\n",
        "\n",
        "        if index==0:\n",
        "            self.head = self.head.next\n",
        "            return\n",
        "\n",
        "        count = 0\n",
        "        itr = self.head\n",
        "        while itr:\n",
        "            if count == index - 1:\n",
        "                itr.next = itr.next.next\n",
        "                break\n",
        "\n",
        "            itr = itr.next\n",
        "            count+=1\n",
        "\n",
        "    def insert_values(self, data_list):\n",
        "        self.head = None\n",
        "        for data in data_list:\n",
        "            self.insert_at_end(data)"
      ],
      "metadata": {
        "id": "u_gRTuOHugod"
      },
      "execution_count": 27,
      "outputs": []
    },
    {
      "cell_type": "code",
      "source": [
        "ll = LinkedList()\n",
        "ll.insert_values([\"banana\",\"mango\",\"grapes\",\"orange\"])\n",
        "ll.insert_at(1,\"blueberry\")\n",
        "ll.remove_at(2)\n",
        "ll.print()"
      ],
      "metadata": {
        "colab": {
          "base_uri": "https://localhost:8080/"
        },
        "id": "J8FVLqquunZL",
        "outputId": "6e4b19a2-a148-43f4-abdd-0efd45ce1821"
      },
      "execution_count": 28,
      "outputs": [
        {
          "output_type": "stream",
          "name": "stdout",
          "text": [
            "banana --> blueberry --> grapes --> orange\n"
          ]
        }
      ]
    },
    {
      "cell_type": "code",
      "source": [
        "ll.insert_values([45,7,12,567,99])\n",
        "ll.insert_at_end(67)\n",
        "ll.print()"
      ],
      "metadata": {
        "colab": {
          "base_uri": "https://localhost:8080/"
        },
        "id": "G4x9bC_EutZ5",
        "outputId": "4a4113ed-f1f6-4281-f7b2-f9954e142453"
      },
      "execution_count": 29,
      "outputs": [
        {
          "output_type": "stream",
          "name": "stdout",
          "text": [
            "45 --> 7 --> 12 --> 567 --> 99 --> 67\n"
          ]
        }
      ]
    },
    {
      "cell_type": "markdown",
      "source": [
        "colab link : https://colab.research.google.com/drive/1ZtZnk4XM20NGDyH5qOBUcKC-yIsUh0cD?usp=sharing"
      ],
      "metadata": {
        "id": "CGjf88ScvAmj"
      }
    },
    {
      "cell_type": "code",
      "source": [],
      "metadata": {
        "id": "quxEUwPiuu7b"
      },
      "execution_count": null,
      "outputs": []
    }
  ]
}